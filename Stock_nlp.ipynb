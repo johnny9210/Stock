{
  "nbformat": 4,
  "nbformat_minor": 0,
  "metadata": {
    "colab": {
      "name": "Stock_nlp.ipynb",
      "provenance": [],
      "collapsed_sections": [],
      "authorship_tag": "ABX9TyOvBCB66hyCLKx3jucWcaAN",
      "include_colab_link": true
    },
    "kernelspec": {
      "name": "python3",
      "display_name": "Python 3"
    },
    "language_info": {
      "name": "python"
    }
  },
  "cells": [
    {
      "cell_type": "markdown",
      "metadata": {
        "id": "view-in-github",
        "colab_type": "text"
      },
      "source": [
        "<a href=\"https://colab.research.google.com/github/johnny9210/Stock/blob/main/Stock_nlp.ipynb\" target=\"_parent\"><img src=\"https://colab.research.google.com/assets/colab-badge.svg\" alt=\"Open In Colab\"/></a>"
      ]
    },
    {
      "cell_type": "code",
      "metadata": {
        "colab": {
          "base_uri": "https://localhost:8080/"
        },
        "id": "fG7D-9XItgsd",
        "outputId": "d68977ca-4f15-4dff-f752-e07d1d7829f5"
      },
      "source": [
        "pip install konlpy"
      ],
      "execution_count": null,
      "outputs": [
        {
          "output_type": "stream",
          "text": [
            "Collecting konlpy\n",
            "\u001b[?25l  Downloading https://files.pythonhosted.org/packages/85/0e/f385566fec837c0b83f216b2da65db9997b35dd675e107752005b7d392b1/konlpy-0.5.2-py2.py3-none-any.whl (19.4MB)\n",
            "\u001b[K     |████████████████████████████████| 19.4MB 80.8MB/s \n",
            "\u001b[?25hRequirement already satisfied: tweepy>=3.7.0 in /usr/local/lib/python3.7/dist-packages (from konlpy) (3.10.0)\n",
            "Collecting JPype1>=0.7.0\n",
            "\u001b[?25l  Downloading https://files.pythonhosted.org/packages/98/88/f817ef1af6f794e8f11313dcd1549de833f4599abcec82746ab5ed086686/JPype1-1.3.0-cp37-cp37m-manylinux_2_5_x86_64.manylinux1_x86_64.whl (448kB)\n",
            "\u001b[K     |████████████████████████████████| 450kB 59.4MB/s \n",
            "\u001b[?25hCollecting colorama\n",
            "  Downloading https://files.pythonhosted.org/packages/44/98/5b86278fbbf250d239ae0ecb724f8572af1c91f4a11edf4d36a206189440/colorama-0.4.4-py2.py3-none-any.whl\n",
            "Requirement already satisfied: numpy>=1.6 in /usr/local/lib/python3.7/dist-packages (from konlpy) (1.19.5)\n",
            "Requirement already satisfied: lxml>=4.1.0 in /usr/local/lib/python3.7/dist-packages (from konlpy) (4.2.6)\n",
            "Collecting beautifulsoup4==4.6.0\n",
            "\u001b[?25l  Downloading https://files.pythonhosted.org/packages/9e/d4/10f46e5cfac773e22707237bfcd51bbffeaf0a576b0a847ec7ab15bd7ace/beautifulsoup4-4.6.0-py3-none-any.whl (86kB)\n",
            "\u001b[K     |████████████████████████████████| 92kB 8.9MB/s \n",
            "\u001b[?25hRequirement already satisfied: requests-oauthlib>=0.7.0 in /usr/local/lib/python3.7/dist-packages (from tweepy>=3.7.0->konlpy) (1.3.0)\n",
            "Requirement already satisfied: requests[socks]>=2.11.1 in /usr/local/lib/python3.7/dist-packages (from tweepy>=3.7.0->konlpy) (2.23.0)\n",
            "Requirement already satisfied: six>=1.10.0 in /usr/local/lib/python3.7/dist-packages (from tweepy>=3.7.0->konlpy) (1.15.0)\n",
            "Requirement already satisfied: typing-extensions; python_version < \"3.8\" in /usr/local/lib/python3.7/dist-packages (from JPype1>=0.7.0->konlpy) (3.7.4.3)\n",
            "Requirement already satisfied: oauthlib>=3.0.0 in /usr/local/lib/python3.7/dist-packages (from requests-oauthlib>=0.7.0->tweepy>=3.7.0->konlpy) (3.1.1)\n",
            "Requirement already satisfied: chardet<4,>=3.0.2 in /usr/local/lib/python3.7/dist-packages (from requests[socks]>=2.11.1->tweepy>=3.7.0->konlpy) (3.0.4)\n",
            "Requirement already satisfied: certifi>=2017.4.17 in /usr/local/lib/python3.7/dist-packages (from requests[socks]>=2.11.1->tweepy>=3.7.0->konlpy) (2021.5.30)\n",
            "Requirement already satisfied: urllib3!=1.25.0,!=1.25.1,<1.26,>=1.21.1 in /usr/local/lib/python3.7/dist-packages (from requests[socks]>=2.11.1->tweepy>=3.7.0->konlpy) (1.24.3)\n",
            "Requirement already satisfied: idna<3,>=2.5 in /usr/local/lib/python3.7/dist-packages (from requests[socks]>=2.11.1->tweepy>=3.7.0->konlpy) (2.10)\n",
            "Requirement already satisfied: PySocks!=1.5.7,>=1.5.6; extra == \"socks\" in /usr/local/lib/python3.7/dist-packages (from requests[socks]>=2.11.1->tweepy>=3.7.0->konlpy) (1.7.1)\n",
            "Installing collected packages: JPype1, colorama, beautifulsoup4, konlpy\n",
            "  Found existing installation: beautifulsoup4 4.6.3\n",
            "    Uninstalling beautifulsoup4-4.6.3:\n",
            "      Successfully uninstalled beautifulsoup4-4.6.3\n",
            "Successfully installed JPype1-1.3.0 beautifulsoup4-4.6.0 colorama-0.4.4 konlpy-0.5.2\n"
          ],
          "name": "stdout"
        }
      ]
    },
    {
      "cell_type": "code",
      "metadata": {
        "id": "lgG0KrKtXZ7l"
      },
      "source": [
        "from konlpy.tag import *\n",
        "import pandas as pd\n",
        "from collections import Counter\n",
        "from wordcloud import WordCloud\n",
        "import matplotlib.pyplot as plt\n",
        "from PIL import Image\n",
        "import numpy as np"
      ],
      "execution_count": null,
      "outputs": []
    },
    {
      "cell_type": "code",
      "metadata": {
        "id": "AS9ZTFwMXmrT"
      },
      "source": [
        "okt = Okt()\n",
        "kkma = Kkma()"
      ],
      "execution_count": null,
      "outputs": []
    },
    {
      "cell_type": "code",
      "metadata": {
        "id": "3nDLrTHcVSJw"
      },
      "source": [
        "data = pd.read_csv('/content/news.csv',encoding='utf-8')"
      ],
      "execution_count": null,
      "outputs": []
    },
    {
      "cell_type": "code",
      "metadata": {
        "id": "Xtzvm3z8kXS_",
        "colab": {
          "base_uri": "https://localhost:8080/",
          "height": 522
        },
        "outputId": "682aabd4-b6e3-4c59-fe09-3cd2ac2f801d"
      },
      "source": [
        "data"
      ],
      "execution_count": null,
      "outputs": [
        {
          "output_type": "execute_result",
          "data": {
            "text/html": [
              "<div>\n",
              "<style scoped>\n",
              "    .dataframe tbody tr th:only-of-type {\n",
              "        vertical-align: middle;\n",
              "    }\n",
              "\n",
              "    .dataframe tbody tr th {\n",
              "        vertical-align: top;\n",
              "    }\n",
              "\n",
              "    .dataframe thead th {\n",
              "        text-align: right;\n",
              "    }\n",
              "</style>\n",
              "<table border=\"1\" class=\"dataframe\">\n",
              "  <thead>\n",
              "    <tr style=\"text-align: right;\">\n",
              "      <th></th>\n",
              "      <th>code</th>\n",
              "      <th>company</th>\n",
              "      <th>date</th>\n",
              "      <th>title</th>\n",
              "      <th>content</th>\n",
              "      <th>Unnamed: 5</th>\n",
              "      <th>Unnamed: 6</th>\n",
              "      <th>Unnamed: 7</th>\n",
              "      <th>Unnamed: 8</th>\n",
              "      <th>Unnamed: 9</th>\n",
              "      <th>Unnamed: 10</th>\n",
              "    </tr>\n",
              "  </thead>\n",
              "  <tbody>\n",
              "    <tr>\n",
              "      <th>0</th>\n",
              "      <td>5930</td>\n",
              "      <td>?쇱꽦?꾩옄</td>\n",
              "      <td>2021.07.16</td>\n",
              "      <td>?쇱꽦, 苡뚯쟻???щ쫫 ?섍린 ?꾪븳 ?먯뼱而??좏깮踰?怨듦컻</td>\n",
              "      <td>?ъ쭊?쒓났=?쇱꽦?꾩옄\\n?λ쭏媛 臾쇰윭媛??蹂멸꺽?곸씤 臾대뜑?꾧? ?쒖옉?...</td>\n",
              "      <td>NaN</td>\n",
              "      <td>NaN</td>\n",
              "      <td>NaN</td>\n",
              "      <td>NaN</td>\n",
              "      <td>NaN</td>\n",
              "      <td>NaN</td>\n",
              "    </tr>\n",
              "    <tr>\n",
              "      <th>1</th>\n",
              "      <td>5930</td>\n",
              "      <td>?쇱꽦?꾩옄</td>\n",
              "      <td>2021.07.16</td>\n",
              "      <td>??댁븘?댁??? ?쇱꽦?꾩옄??187?듭썝 洹쒕え 諛섎룄泥?寃?ъ옣鍮?怨듦툒</td>\n",
              "      <td>[?대뜲?쇰━ 源?곗? 湲곗옄] ??댁븘?댁???232140)???쇱꽦?꾩옄(0...</td>\n",
              "      <td>NaN</td>\n",
              "      <td>NaN</td>\n",
              "      <td>NaN</td>\n",
              "      <td>NaN</td>\n",
              "      <td>NaN</td>\n",
              "      <td>NaN</td>\n",
              "    </tr>\n",
              "    <tr>\n",
              "      <th>2</th>\n",
              "      <td>5930</td>\n",
              "      <td>?쇱꽦?꾩옄</td>\n",
              "      <td>2021.07.16</td>\n",
              "      <td>濡쒖씠???쒖궪?깆쟾?? 誘멸뎅 ???뚯슫?쒕━ 遺吏濡??띿궗?ㅼ＜ 寃?졻?...</td>\n",
              "      <td>NaN</td>\n",
              "      <td>NaN</td>\n",
              "      <td>NaN</td>\n",
              "      <td>NaN</td>\n",
              "      <td>NaN</td>\n",
              "      <td>NaN</td>\n",
              "      <td>NaN</td>\n",
              "    </tr>\n",
              "    <tr>\n",
              "      <th>3</th>\n",
              "      <td>NaN</td>\n",
              "      <td>NaN</td>\n",
              "      <td>NaN</td>\n",
              "      <td>NaN</td>\n",
              "      <td>NaN</td>\n",
              "      <td>NaN</td>\n",
              "      <td>NaN</td>\n",
              "      <td>NaN</td>\n",
              "      <td>NaN</td>\n",
              "      <td>NaN</td>\n",
              "      <td>NaN</td>\n",
              "    </tr>\n",
              "    <tr>\n",
              "      <th>4</th>\n",
              "      <td>NaN</td>\n",
              "      <td>NaN</td>\n",
              "      <td>NaN</td>\n",
              "      <td>NaN</td>\n",
              "      <td>NaN</td>\n",
              "      <td>NaN</td>\n",
              "      <td>NaN</td>\n",
              "      <td>NaN</td>\n",
              "      <td>NaN</td>\n",
              "      <td>NaN</td>\n",
              "      <td>NaN</td>\n",
              "    </tr>\n",
              "    <tr>\n",
              "      <th>...</th>\n",
              "      <td>...</td>\n",
              "      <td>...</td>\n",
              "      <td>...</td>\n",
              "      <td>...</td>\n",
              "      <td>...</td>\n",
              "      <td>...</td>\n",
              "      <td>...</td>\n",
              "      <td>...</td>\n",
              "      <td>...</td>\n",
              "      <td>...</td>\n",
              "      <td>...</td>\n",
              "    </tr>\n",
              "    <tr>\n",
              "      <th>3736</th>\n",
              "      <td>???쒖슱寃쎌젣 ???대━?깆뒪 ?댁뒪瑜?留뚮굹蹂댁꽭??</td>\n",
              "      <td>NaN</td>\n",
              "      <td>NaN</td>\n",
              "      <td>NaN</td>\n",
              "      <td>NaN</td>\n",
              "      <td>NaN</td>\n",
              "      <td>NaN</td>\n",
              "      <td>NaN</td>\n",
              "      <td>NaN</td>\n",
              "      <td>NaN</td>\n",
              "      <td>NaN</td>\n",
              "    </tr>\n",
              "    <tr>\n",
              "      <th>3737</th>\n",
              "      <td>??誘몄뒓??媛?대뱶泥섎읆 ?뚯갔 遺?숈궛 ?댁뒪 '吏묒뒓??</td>\n",
              "      <td>NaN</td>\n",
              "      <td>NaN</td>\n",
              "      <td>NaN</td>\n",
              "      <td>NaN</td>\n",
              "      <td>NaN</td>\n",
              "      <td>NaN</td>\n",
              "      <td>NaN</td>\n",
              "      <td>NaN</td>\n",
              "      <td>NaN</td>\n",
              "      <td>NaN</td>\n",
              "    </tr>\n",
              "    <tr>\n",
              "      <th>3738</th>\n",
              "      <td>NaN</td>\n",
              "      <td>NaN</td>\n",
              "      <td>NaN</td>\n",
              "      <td>NaN</td>\n",
              "      <td>NaN</td>\n",
              "      <td>NaN</td>\n",
              "      <td>NaN</td>\n",
              "      <td>NaN</td>\n",
              "      <td>NaN</td>\n",
              "      <td>NaN</td>\n",
              "      <td>NaN</td>\n",
              "    </tr>\n",
              "    <tr>\n",
              "      <th>3739</th>\n",
              "      <td>NaN</td>\n",
              "      <td>NaN</td>\n",
              "      <td>NaN</td>\n",
              "      <td>NaN</td>\n",
              "      <td>NaN</td>\n",
              "      <td>NaN</td>\n",
              "      <td>NaN</td>\n",
              "      <td>NaN</td>\n",
              "      <td>NaN</td>\n",
              "      <td>NaN</td>\n",
              "      <td>NaN</td>\n",
              "    </tr>\n",
              "    <tr>\n",
              "      <th>3740</th>\n",
              "      <td>??묎텒?????쒖슱寃쎌젣</td>\n",
              "      <td>臾대떒 ?꾩옱 諛??щ같??湲덉?\"</td>\n",
              "      <td>NaN</td>\n",
              "      <td>NaN</td>\n",
              "      <td>NaN</td>\n",
              "      <td>NaN</td>\n",
              "      <td>NaN</td>\n",
              "      <td>NaN</td>\n",
              "      <td>NaN</td>\n",
              "      <td>NaN</td>\n",
              "      <td>NaN</td>\n",
              "    </tr>\n",
              "  </tbody>\n",
              "</table>\n",
              "<p>3741 rows × 11 columns</p>\n",
              "</div>"
            ],
            "text/plain": [
              "                                      code  ... Unnamed: 10\n",
              "0                                     5930  ...         NaN\n",
              "1                                     5930  ...         NaN\n",
              "2                                     5930  ...         NaN\n",
              "3                                      NaN  ...         NaN\n",
              "4                                      NaN  ...         NaN\n",
              "...                                    ...  ...         ...\n",
              "3736       ???쒖슱寃쎌젣 ???대━?깆뒪 ?댁뒪瑜?留뚮굹蹂댁꽭??  ...         NaN\n",
              "3737  ??誘몄뒓??媛?대뱶泥섎읆 ?뚯갔 遺?숈궛 ?댁뒪 '吏묒뒓??  ...         NaN\n",
              "3738                                   NaN  ...         NaN\n",
              "3739                                   NaN  ...         NaN\n",
              "3740                       ??묎텒?????쒖슱寃쎌젣  ...         NaN\n",
              "\n",
              "[3741 rows x 11 columns]"
            ]
          },
          "metadata": {
            "tags": []
          },
          "execution_count": 10
        }
      ]
    },
    {
      "cell_type": "code",
      "metadata": {
        "id": "t0ptf6DPkXVe"
      },
      "source": [
        "text_=t.iloc[0]+t.iloc[1]"
      ],
      "execution_count": null,
      "outputs": []
    },
    {
      "cell_type": "code",
      "metadata": {
        "colab": {
          "base_uri": "https://localhost:8080/",
          "height": 359
        },
        "id": "FkaYERguk65j",
        "outputId": "e7a7cf48-76a9-487a-bba7-c6bcb49ab76e"
      },
      "source": [
        "text_"
      ],
      "execution_count": null,
      "outputs": [
        {
          "output_type": "execute_result",
          "data": {
            "application/vnd.google.colaboratory.intrinsic+json": {
              "type": "string"
            },
            "text/plain": [
              "'[이데일리 김연지 기자] 와이아이케이(232140)는 삼성전자(005930)와 반도체 검사장비 공급 계약을 맺었다고 16일 공시했다. 계약금액은 187억1000만원으로 이는 2020년 연결기준 매출액 대비 10.9% 규모다. 계약기간은 오는 11월 30일까지다.사진=연합뉴스\\n\\n\\n[헤럴드경제=양대근 기자] 삼성전자가 미국 내 두 번째 반도체 파운드리(위탁생산) 공장을 텍사스주 중부 윌리엄슨 카운티에 짓는 방안을 검토 중이라고 로이터통신이 16일(현지시간) 전했다.\\n\\n로이터는 삼성전자가 세금혜택을 받고자 윌리엄슨 카운티 당국에 제출한 서류를 입수해 이같이 보도했다. 삼성전자가 검토하고 있는 부지는 윌리엄슨 카운티의 테일러 시로, 삼성전자가 미국 내 첫 번째 파운드리 건립해 운영하고 있는 텍사스주 오스틴에서 멀지 않은 곳에 있다.\\n\\n당국은 삼성전자의 두 번째 파운드리 공장 과세가액을 10년간 8000만 달러(약 911억원)로 제한하는 방안을 검토하는 것으로 전해졌다.\\n\\n이 공장은 2029년 시장가액이 43억5000만 달러(약 4조9576억원)에 달할 것으로추정돼 과세가액에 상한을 두면 상당한 세금혜택을 받을 수 있다. 로이터는 투자가 결정되면 내년 1분기 착공해 2024년 말 반도체 생산을 시작하겠다는 계획이 서류에 담겼다고 보도했다.\\n\\n삼성전자는 서류에서 미국 뉴욕주, 애리조나주, 한국 등도 대체부지로 검토하고있다는 내용을 강조한 것으로 전해졌다.\\n\\n이에 대해 삼성전자측은 “텍사스주 테일러도 오스틴이나 뉴욕·애리조나 등 애초 검토하던 여러 후보지 가운데 한 곳 일뿐 어느 쪽이든 결정된 바 없다”고 말했다.\\n\\n삼성전자는 미국내 파운드리 공장 추가 건설을 검토해왔으며 지난 5월 한미 정상회담이 이뤄졌을 때 신규 투자 계획을 공식화했다.\\n\\n이에 170억 달러(약 19조3715억원) 규모 투자금이 어디로 갈지 관심이 쏠렸고 텍사스주를 비롯해 뉴욕주와 애리조나주 등이 유치경쟁을 벌이고 있다.'"
            ]
          },
          "metadata": {
            "tags": []
          },
          "execution_count": 52
        }
      ]
    },
    {
      "cell_type": "code",
      "metadata": {
        "id": "ARgGjoKDlFRL"
      },
      "source": [
        "noun = okt.nouns(text_)\n",
        "\n",
        "for i, v in enumerate(noun):\n",
        "  if len(v)<3:\n",
        "    noun.pop(i)\n",
        "\n",
        "count=Counter(noun)\n"
      ],
      "execution_count": null,
      "outputs": []
    },
    {
      "cell_type": "code",
      "metadata": {
        "colab": {
          "base_uri": "https://localhost:8080/"
        },
        "id": "VCT91hCugsdQ",
        "outputId": "e3e05391-6271-4b9c-866c-8b5d53b949b1"
      },
      "source": [
        "count"
      ],
      "execution_count": null,
      "outputs": [
        {
          "output_type": "execute_result",
          "data": {
            "text/plain": [
              "Counter({'가액': 1,\n",
              "         '가운데': 1,\n",
              "         '검토': 2,\n",
              "         '것': 3,\n",
              "         '결정': 1,\n",
              "         '계약': 3,\n",
              "         '계획': 1,\n",
              "         '고': 1,\n",
              "         '공장': 1,\n",
              "         '과세': 2,\n",
              "         '김연지': 1,\n",
              "         '내': 3,\n",
              "         '내년': 1,\n",
              "         '내용': 1,\n",
              "         '뉴욕주': 2,\n",
              "         '달러': 1,\n",
              "         '당국': 1,\n",
              "         '대비': 1,\n",
              "         '대해': 1,\n",
              "         '두': 1,\n",
              "         '등': 1,\n",
              "         '로': 1,\n",
              "         '로이터': 3,\n",
              "         '말': 1,\n",
              "         '매출': 1,\n",
              "         '미국': 1,\n",
              "         '반도체': 3,\n",
              "         '방안': 1,\n",
              "         '벌이': 1,\n",
              "         '부지': 2,\n",
              "         '뿐': 1,\n",
              "         '사진': 1,\n",
              "         '삼성': 1,\n",
              "         '상한': 1,\n",
              "         '생산': 1,\n",
              "         '서류': 1,\n",
              "         '세금': 1,\n",
              "         '시작': 1,\n",
              "         '신규': 1,\n",
              "         '아이': 1,\n",
              "         '애리조나': 1,\n",
              "         '애리조나주': 2,\n",
              "         '애초': 1,\n",
              "         '약': 2,\n",
              "         '어디': 1,\n",
              "         '여러': 1,\n",
              "         '연결': 1,\n",
              "         '연합뉴스': 1,\n",
              "         '오스틴': 2,\n",
              "         '운영': 1,\n",
              "         '윌리엄': 3,\n",
              "         '유치': 1,\n",
              "         '이': 1,\n",
              "         '이데일리': 1,\n",
              "         '입수': 1,\n",
              "         '장비': 1,\n",
              "         '전': 1,\n",
              "         '전자': 5,\n",
              "         '정상회담': 1,\n",
              "         '제출': 1,\n",
              "         '추가': 1,\n",
              "         '카운티': 3,\n",
              "         '테일러': 2,\n",
              "         '텍사스주': 4,\n",
              "         '투': 1,\n",
              "         '투자가': 1,\n",
              "         '파운드리': 4,\n",
              "         '한미': 1,\n",
              "         '헤럴드경제': 1,\n",
              "         '현지': 1,\n",
              "         '혜택': 1})"
            ]
          },
          "metadata": {
            "tags": []
          },
          "execution_count": 59
        }
      ]
    },
    {
      "cell_type": "code",
      "metadata": {
        "id": "vf298McSgtKU"
      },
      "source": [
        "noun_list = count.most_common(10)\n",
        "list_=[]\n",
        "for v in noun_list:\n",
        "  list_.append(v)"
      ],
      "execution_count": null,
      "outputs": []
    },
    {
      "cell_type": "code",
      "metadata": {
        "id": "xi9kM8bAh9gu"
      },
      "source": [
        "pig=np.array(Image.open('/content/png-transparent-monster-funny-character-food-leaf-hand-thumbnail.png'))"
      ],
      "execution_count": null,
      "outputs": []
    },
    {
      "cell_type": "code",
      "metadata": {
        "id": "sRacfVJTg1b1"
      },
      "source": [
        "wordcloud = WordCloud(font_path='/content/NanumGothic.ttf',width=800,height=1000,background_color='black', mask=pig)"
      ],
      "execution_count": null,
      "outputs": []
    },
    {
      "cell_type": "code",
      "metadata": {
        "colab": {
          "base_uri": "https://localhost:8080/"
        },
        "id": "GLsC24Dzhqhr",
        "outputId": "0306f87c-1fad-4cea-b347-529d7f0a5e3e"
      },
      "source": [
        "wordcloud.generate_from_frequencies(dict(list_))"
      ],
      "execution_count": null,
      "outputs": [
        {
          "output_type": "execute_result",
          "data": {
            "text/plain": [
              "<wordcloud.wordcloud.WordCloud at 0x7fd58e015350>"
            ]
          },
          "metadata": {
            "tags": []
          },
          "execution_count": 94
        }
      ]
    },
    {
      "cell_type": "code",
      "metadata": {
        "colab": {
          "base_uri": "https://localhost:8080/",
          "height": 286
        },
        "id": "3IXy1y-6h6IC",
        "outputId": "8d8b48e3-eb9c-41f1-e363-87e5aa6a11bc"
      },
      "source": [
        "wordcloud.to_file('word.png')\n",
        "plt.imshow(wordcloud)"
      ],
      "execution_count": null,
      "outputs": [
        {
          "output_type": "execute_result",
          "data": {
            "text/plain": [
              "<matplotlib.image.AxesImage at 0x7fd58deb5810>"
            ]
          },
          "metadata": {
            "tags": []
          },
          "execution_count": 95
        },
        {
          "output_type": "display_data",
          "data": {
            "image/png": "[encoded data removed]",
            "text/plain": [
              "<Figure size 432x288 with 1 Axes>"
            ]
          },
          "metadata": {
            "tags": [],
            "needs_background": "light"
          }
        }
      ]
    },
    {
      "cell_type": "code",
      "metadata": {
        "id": "D_xrXmDimSag"
      },
      "source": [
        ""
      ],
      "execution_count": null,
      "outputs": []
    }
  ]
}
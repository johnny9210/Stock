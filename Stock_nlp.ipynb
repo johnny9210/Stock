{
  "nbformat": 4,
  "nbformat_minor": 0,
  "metadata": {
    "colab": {
      "name": "Stock_nlp.ipynb",
      "provenance": [],
      "collapsed_sections": [],
      "authorship_tag": "ABX9TyMvBP5DCI6476ZmjdFzsWfI",
      "include_colab_link": true
    },
    "kernelspec": {
      "name": "python3",
      "display_name": "Python 3"
    },
    "language_info": {
      "name": "python"
    }
  },
  "cells": [
    {
      "cell_type": "markdown",
      "metadata": {
        "id": "view-in-github",
        "colab_type": "text"
      },
      "source": [
        "<a href=\"https://colab.research.google.com/github/johnny9210/Stock/blob/main/Stock_nlp.ipynb\" target=\"_parent\"><img src=\"https://colab.research.google.com/assets/colab-badge.svg\" alt=\"Open In Colab\"/></a>"
      ]
    },
    {
      "cell_type": "code",
      "metadata": {
        "colab": {
          "base_uri": "https://localhost:8080/"
        },
        "id": "fG7D-9XItgsd",
        "outputId": "8a78e80f-b6c6-4e99-9f55-43523501db1d"
      },
      "source": [
        "pip install konlpy"
      ],
      "execution_count": null,
      "outputs": [
        {
          "output_type": "stream",
          "text": [
            "Collecting konlpy\n",
            "\u001b[?25l  Downloading https://files.pythonhosted.org/packages/85/0e/f385566fec837c0b83f216b2da65db9997b35dd675e107752005b7d392b1/konlpy-0.5.2-py2.py3-none-any.whl (19.4MB)\n",
            "\u001b[K     |████████████████████████████████| 19.4MB 53.3MB/s \n",
            "\u001b[?25hCollecting beautifulsoup4==4.6.0\n",
            "\u001b[?25l  Downloading https://files.pythonhosted.org/packages/9e/d4/10f46e5cfac773e22707237bfcd51bbffeaf0a576b0a847ec7ab15bd7ace/beautifulsoup4-4.6.0-py3-none-any.whl (86kB)\n",
            "\u001b[K     |████████████████████████████████| 92kB 11.0MB/s \n",
            "\u001b[?25hCollecting colorama\n",
            "  Downloading https://files.pythonhosted.org/packages/44/98/5b86278fbbf250d239ae0ecb724f8572af1c91f4a11edf4d36a206189440/colorama-0.4.4-py2.py3-none-any.whl\n",
            "Requirement already satisfied: lxml>=4.1.0 in /usr/local/lib/python3.7/dist-packages (from konlpy) (4.2.6)\n",
            "Requirement already satisfied: tweepy>=3.7.0 in /usr/local/lib/python3.7/dist-packages (from konlpy) (3.10.0)\n",
            "Requirement already satisfied: numpy>=1.6 in /usr/local/lib/python3.7/dist-packages (from konlpy) (1.19.5)\n",
            "Collecting JPype1>=0.7.0\n",
            "\u001b[?25l  Downloading https://files.pythonhosted.org/packages/98/88/f817ef1af6f794e8f11313dcd1549de833f4599abcec82746ab5ed086686/JPype1-1.3.0-cp37-cp37m-manylinux_2_5_x86_64.manylinux1_x86_64.whl (448kB)\n",
            "\u001b[K     |████████████████████████████████| 450kB 40.0MB/s \n",
            "\u001b[?25hRequirement already satisfied: requests[socks]>=2.11.1 in /usr/local/lib/python3.7/dist-packages (from tweepy>=3.7.0->konlpy) (2.23.0)\n",
            "Requirement already satisfied: requests-oauthlib>=0.7.0 in /usr/local/lib/python3.7/dist-packages (from tweepy>=3.7.0->konlpy) (1.3.0)\n",
            "Requirement already satisfied: six>=1.10.0 in /usr/local/lib/python3.7/dist-packages (from tweepy>=3.7.0->konlpy) (1.15.0)\n",
            "Requirement already satisfied: typing-extensions; python_version < \"3.8\" in /usr/local/lib/python3.7/dist-packages (from JPype1>=0.7.0->konlpy) (3.7.4.3)\n",
            "Requirement already satisfied: idna<3,>=2.5 in /usr/local/lib/python3.7/dist-packages (from requests[socks]>=2.11.1->tweepy>=3.7.0->konlpy) (2.10)\n",
            "Requirement already satisfied: certifi>=2017.4.17 in /usr/local/lib/python3.7/dist-packages (from requests[socks]>=2.11.1->tweepy>=3.7.0->konlpy) (2021.5.30)\n",
            "Requirement already satisfied: urllib3!=1.25.0,!=1.25.1,<1.26,>=1.21.1 in /usr/local/lib/python3.7/dist-packages (from requests[socks]>=2.11.1->tweepy>=3.7.0->konlpy) (1.24.3)\n",
            "Requirement already satisfied: chardet<4,>=3.0.2 in /usr/local/lib/python3.7/dist-packages (from requests[socks]>=2.11.1->tweepy>=3.7.0->konlpy) (3.0.4)\n",
            "Requirement already satisfied: PySocks!=1.5.7,>=1.5.6; extra == \"socks\" in /usr/local/lib/python3.7/dist-packages (from requests[socks]>=2.11.1->tweepy>=3.7.0->konlpy) (1.7.1)\n",
            "Requirement already satisfied: oauthlib>=3.0.0 in /usr/local/lib/python3.7/dist-packages (from requests-oauthlib>=0.7.0->tweepy>=3.7.0->konlpy) (3.1.1)\n",
            "Installing collected packages: beautifulsoup4, colorama, JPype1, konlpy\n",
            "  Found existing installation: beautifulsoup4 4.6.3\n",
            "    Uninstalling beautifulsoup4-4.6.3:\n",
            "      Successfully uninstalled beautifulsoup4-4.6.3\n",
            "Successfully installed JPype1-1.3.0 beautifulsoup4-4.6.0 colorama-0.4.4 konlpy-0.5.2\n"
          ],
          "name": "stdout"
        }
      ]
    },
    {
      "cell_type": "code",
      "metadata": {
        "id": "lgG0KrKtXZ7l"
      },
      "source": [
        "from konlpy.tag import *\n",
        "import pandas as pd\n",
        "from collections import Counter\n",
        "from wordcloud import WordCloud, STOPWORDS\n",
        "import matplotlib.pyplot as plt\n",
        "from PIL import Image\n",
        "import numpy as np"
      ],
      "execution_count": null,
      "outputs": []
    },
    {
      "cell_type": "code",
      "metadata": {
        "id": "AS9ZTFwMXmrT"
      },
      "source": [
        "okt = Okt()\n",
        "kkma = Kkma()"
      ],
      "execution_count": null,
      "outputs": []
    },
    {
      "cell_type": "code",
      "metadata": {
        "id": "XlvPwInx6yiV"
      },
      "source": [
        "data = pd.read_csv('/content/news.csv',encoding='utf-8')\n"
      ],
      "execution_count": null,
      "outputs": []
    },
    {
      "cell_type": "code",
      "metadata": {
        "colab": {
          "base_uri": "https://localhost:8080/",
          "height": 419
        },
        "id": "HhxxQJOL7GpQ",
        "outputId": "8971e7e0-ccae-4a44-b5b6-9b576be976c3"
      },
      "source": [
        "data"
      ],
      "execution_count": null,
      "outputs": [
        {
          "output_type": "execute_result",
          "data": {
            "text/html": [
              "<div>\n",
              "<style scoped>\n",
              "    .dataframe tbody tr th:only-of-type {\n",
              "        vertical-align: middle;\n",
              "    }\n",
              "\n",
              "    .dataframe tbody tr th {\n",
              "        vertical-align: top;\n",
              "    }\n",
              "\n",
              "    .dataframe thead th {\n",
              "        text-align: right;\n",
              "    }\n",
              "</style>\n",
              "<table border=\"1\" class=\"dataframe\">\n",
              "  <thead>\n",
              "    <tr style=\"text-align: right;\">\n",
              "      <th></th>\n",
              "      <th>code</th>\n",
              "      <th>name</th>\n",
              "      <th>date</th>\n",
              "      <th>subject</th>\n",
              "      <th>content</th>\n",
              "    </tr>\n",
              "  </thead>\n",
              "  <tbody>\n",
              "    <tr>\n",
              "      <th>0</th>\n",
              "      <td>5930</td>\n",
              "      <td>삼성전자</td>\n",
              "      <td>2021.07.17</td>\n",
              "      <td>[단독] 삼성 대미 반도체 투자 결국 6개월~1년 지연</td>\n",
              "      <td>텍사스 제2후보지역 착공 내년 1Q\\n제1후보지서는 올해 2Q 공사 목표\\n상업가동...</td>\n",
              "    </tr>\n",
              "    <tr>\n",
              "      <th>1</th>\n",
              "      <td>5930</td>\n",
              "      <td>삼성전자</td>\n",
              "      <td>2021.07.16</td>\n",
              "      <td>인텔, '파운드리' 공격 투자 지속..삼성전자도 '경계'</td>\n",
              "      <td>\"인텔, 글로벌파운드리 인수 협상 진행 중\"\\n인수대금 약 34조 추정..인텔 역사...</td>\n",
              "    </tr>\n",
              "    <tr>\n",
              "      <th>2</th>\n",
              "      <td>5930</td>\n",
              "      <td>삼성전자</td>\n",
              "      <td>2021.07.16</td>\n",
              "      <td>TSMC, 삼성과 격차 더 벌리는데...총수 장기 부재로 전략적 결단 실종</td>\n",
              "      <td>[샌드위치 신세된 삼성]\\nTSMC 2분기 영업익 6조 육박\\n후발주자 추격 멀찍이...</td>\n",
              "    </tr>\n",
              "    <tr>\n",
              "      <th>3</th>\n",
              "      <td>5930</td>\n",
              "      <td>삼성전자</td>\n",
              "      <td>2021.07.16</td>\n",
              "      <td>\"기업가치 10조 잠재력 있다\" 삼성 600억 투자한 회사는?</td>\n",
              "      <td>인게임 앱 제작 지원 업체\\n메타버스 생태계 활용성 주목\\n\\n삼성전자의 투자 자회...</td>\n",
              "    </tr>\n",
              "    <tr>\n",
              "      <th>4</th>\n",
              "      <td>5930</td>\n",
              "      <td>삼성전자</td>\n",
              "      <td>2021.07.16</td>\n",
              "      <td>\"삼성, 美 제2파운드리 부지로 텍사스 중부 검토\" -로이터</td>\n",
              "      <td>미국 텍사스주 오스틴에 있는 삼성전자 팹 공장/사진=삼성전자 홈페이지\\n삼성전자가 ...</td>\n",
              "    </tr>\n",
              "    <tr>\n",
              "      <th>...</th>\n",
              "      <td>...</td>\n",
              "      <td>...</td>\n",
              "      <td>...</td>\n",
              "      <td>...</td>\n",
              "      <td>...</td>\n",
              "    </tr>\n",
              "    <tr>\n",
              "      <th>504</th>\n",
              "      <td>68270</td>\n",
              "      <td>셀트리온</td>\n",
              "      <td>2021.06.14</td>\n",
              "      <td>엎치락뒤치락 코스피…셀트리온 3형제 강세</td>\n",
              "      <td>셀트리온 장 초반 4%대 상승\\n코스닥 상승 출발\\n[이미지출처=연합뉴스]\\n\\n\\...</td>\n",
              "    </tr>\n",
              "    <tr>\n",
              "      <th>505</th>\n",
              "      <td>68270</td>\n",
              "      <td>셀트리온</td>\n",
              "      <td>2021.06.14</td>\n",
              "      <td>셀트리온 \"코로나19 치료제 렉키로나, 3상서 효능 안전성 입증\"</td>\n",
              "      <td>셀트리온 코로나 치료제 임상 3상서 중증 악화율 70% 이상 감소.[사진 = 연합]...</td>\n",
              "    </tr>\n",
              "    <tr>\n",
              "      <th>506</th>\n",
              "      <td>68270</td>\n",
              "      <td>셀트리온</td>\n",
              "      <td>2021.06.14</td>\n",
              "      <td>[속보]셀트리온 '렉키로나' 글로벌 임상 3상 효능·안전성 입증</td>\n",
              "      <td>[머니투데이 안정준 기자] 셀트리온은 코로나19 항체 치료제 '렉키로나'의 글로벌 ...</td>\n",
              "    </tr>\n",
              "    <tr>\n",
              "      <th>507</th>\n",
              "      <td>68270</td>\n",
              "      <td>셀트리온</td>\n",
              "      <td>2021.06.14</td>\n",
              "      <td>[속보]셀트리온 “렉키로나주, 중증환자 발생률 70% 감소시켜”</td>\n",
              "      <td>“고위험군 환자 대상으로는 72% 감소”\\n[이데일리 왕해나 기자] 셀트리온(068...</td>\n",
              "    </tr>\n",
              "    <tr>\n",
              "      <th>508</th>\n",
              "      <td>68270</td>\n",
              "      <td>셀트리온</td>\n",
              "      <td>2021.06.12</td>\n",
              "      <td>[외인이 담은 바이오] 외국인 ‘셀트리온’ 기관투자자 ‘SK바이오팜’ 러브콜</td>\n",
              "      <td>셀트리온, 바이오에서 케미컬까지 장악 시작\\nSK바이오팜 美영업 정상화 신약 판매 ...</td>\n",
              "    </tr>\n",
              "  </tbody>\n",
              "</table>\n",
              "<p>509 rows × 5 columns</p>\n",
              "</div>"
            ],
            "text/plain": [
              "      code  ...                                            content\n",
              "0     5930  ...  텍사스 제2후보지역 착공 내년 1Q\\n제1후보지서는 올해 2Q 공사 목표\\n상업가동...\n",
              "1     5930  ...  \"인텔, 글로벌파운드리 인수 협상 진행 중\"\\n인수대금 약 34조 추정..인텔 역사...\n",
              "2     5930  ...  [샌드위치 신세된 삼성]\\nTSMC 2분기 영업익 6조 육박\\n후발주자 추격 멀찍이...\n",
              "3     5930  ...  인게임 앱 제작 지원 업체\\n메타버스 생태계 활용성 주목\\n\\n삼성전자의 투자 자회...\n",
              "4     5930  ...  미국 텍사스주 오스틴에 있는 삼성전자 팹 공장/사진=삼성전자 홈페이지\\n삼성전자가 ...\n",
              "..     ...  ...                                                ...\n",
              "504  68270  ...  셀트리온 장 초반 4%대 상승\\n코스닥 상승 출발\\n[이미지출처=연합뉴스]\\n\\n\\...\n",
              "505  68270  ...  셀트리온 코로나 치료제 임상 3상서 중증 악화율 70% 이상 감소.[사진 = 연합]...\n",
              "506  68270  ...  [머니투데이 안정준 기자] 셀트리온은 코로나19 항체 치료제 '렉키로나'의 글로벌 ...\n",
              "507  68270  ...  “고위험군 환자 대상으로는 72% 감소”\\n[이데일리 왕해나 기자] 셀트리온(068...\n",
              "508  68270  ...  셀트리온, 바이오에서 케미컬까지 장악 시작\\nSK바이오팜 美영업 정상화 신약 판매 ...\n",
              "\n",
              "[509 rows x 5 columns]"
            ]
          },
          "metadata": {
            "tags": []
          },
          "execution_count": 5
        }
      ]
    },
    {
      "cell_type": "code",
      "metadata": {
        "id": "8PxshMmJF51_"
      },
      "source": [
        "def word_cloud(name,date):\n",
        "  data = pd.read_csv('/content/news.csv',encoding='utf-8')\n",
        "\n",
        "  noun = okt.nouns(''.join(data[(data['name']==name)&(data['date']==date)]['content']))\n",
        "\n",
        "  # 단어 개수 2글자 이상 제한\n",
        "  noun_2=[]\n",
        "  for i, v in enumerate(noun):\n",
        "    if len(v)>1:\n",
        "      noun_2.append(v)\n",
        "\n",
        "  #불용어 추가적으로 더 지정\n",
        "  stopwords = ['셀트리온']\n",
        "  \n",
        "  for i in noun_2:\n",
        "    if i in stopwords:\n",
        "      noun_2.remove(i)\n",
        "  \n",
        "  \n",
        "  count=Counter(noun_2)\n",
        "\n",
        "\n",
        "  noun_list = count.most_common(30)\n",
        "  list_=[]\n",
        "  for v in noun_list:\n",
        "    list_.append(v)\n",
        "\n",
        "  wordcloud = WordCloud(font_path='/content/NanumGothic.ttf',width=800,height=1000,background_color='black')\n",
        "  wordcloud.generate_from_frequencies(dict(list_))\n",
        "  plt.imshow(wordcloud)\n",
        "\n",
        "  return wordcloud.to_file('word.png')"
      ],
      "execution_count": null,
      "outputs": []
    },
    {
      "cell_type": "code",
      "metadata": {
        "colab": {
          "base_uri": "https://localhost:8080/",
          "height": 287
        },
        "id": "jrLTCofdGY1B",
        "outputId": "1e44b722-35c1-4dbf-f972-d0061c16b51c"
      },
      "source": [
        "word_cloud('셀트리온','2021.06.14')"
      ],
      "execution_count": null,
      "outputs": [
        {
          "output_type": "execute_result",
          "data": {
            "text/plain": [
              "<wordcloud.wordcloud.WordCloud at 0x7fe0ed052050>"
            ]
          },
          "metadata": {
            "tags": []
          },
          "execution_count": 7
        },
        {
          "output_type": "display_data",
          "data": {
            "image/png": "[encoded data removed]",
            "text/plain": [
              "<Figure size 432x288 with 1 Axes>"
            ]
          },
          "metadata": {
            "tags": [],
            "needs_background": "light"
          }
        }
      ]
    },
    {
      "cell_type": "code",
      "metadata": {
        "id": "D_xrXmDimSag"
      },
      "source": [
        ""
      ],
      "execution_count": null,
      "outputs": []
    }
  ]
}
{
  "nbformat": 4,
  "nbformat_minor": 0,
  "metadata": {
    "colab": {
      "name": "Stock_nlp.ipynb",
      "provenance": [],
      "collapsed_sections": [],
      "authorship_tag": "ABX9TyO0iD9IElt61Zv61HWhlQOU",
      "include_colab_link": true
    },
    "kernelspec": {
      "name": "python3",
      "display_name": "Python 3"
    },
    "language_info": {
      "name": "python"
    }
  },
  "cells": [
    {
      "cell_type": "markdown",
      "metadata": {
        "id": "view-in-github",
        "colab_type": "text"
      },
      "source": [
        "<a href=\"https://colab.research.google.com/github/johnny9210/Stock/blob/main/Stock_nlp.ipynb\" target=\"_parent\"><img src=\"https://colab.research.google.com/assets/colab-badge.svg\" alt=\"Open In Colab\"/></a>"
      ]
    },
    {
      "cell_type": "code",
      "metadata": {
        "colab": {
          "base_uri": "https://localhost:8080/"
        },
        "id": "fG7D-9XItgsd",
        "outputId": "a3e1671a-bc46-41f9-b8f9-cafac330b223"
      },
      "source": [
        "pip install konlpy"
      ],
      "execution_count": 1,
      "outputs": [
        {
          "output_type": "stream",
          "text": [
            "Collecting konlpy\n",
            "\u001b[?25l  Downloading https://files.pythonhosted.org/packages/85/0e/f385566fec837c0b83f216b2da65db9997b35dd675e107752005b7d392b1/konlpy-0.5.2-py2.py3-none-any.whl (19.4MB)\n",
            "\u001b[K     |████████████████████████████████| 19.4MB 1.2MB/s \n",
            "\u001b[?25hRequirement already satisfied: tweepy>=3.7.0 in /usr/local/lib/python3.7/dist-packages (from konlpy) (3.10.0)\n",
            "Requirement already satisfied: numpy>=1.6 in /usr/local/lib/python3.7/dist-packages (from konlpy) (1.19.5)\n",
            "Collecting beautifulsoup4==4.6.0\n",
            "\u001b[?25l  Downloading https://files.pythonhosted.org/packages/9e/d4/10f46e5cfac773e22707237bfcd51bbffeaf0a576b0a847ec7ab15bd7ace/beautifulsoup4-4.6.0-py3-none-any.whl (86kB)\n",
            "\u001b[K     |████████████████████████████████| 92kB 9.1MB/s \n",
            "\u001b[?25hCollecting JPype1>=0.7.0\n",
            "\u001b[?25l  Downloading https://files.pythonhosted.org/packages/98/88/f817ef1af6f794e8f11313dcd1549de833f4599abcec82746ab5ed086686/JPype1-1.3.0-cp37-cp37m-manylinux_2_5_x86_64.manylinux1_x86_64.whl (448kB)\n",
            "\u001b[K     |████████████████████████████████| 450kB 56.5MB/s \n",
            "\u001b[?25hRequirement already satisfied: lxml>=4.1.0 in /usr/local/lib/python3.7/dist-packages (from konlpy) (4.2.6)\n",
            "Collecting colorama\n",
            "  Downloading https://files.pythonhosted.org/packages/44/98/5b86278fbbf250d239ae0ecb724f8572af1c91f4a11edf4d36a206189440/colorama-0.4.4-py2.py3-none-any.whl\n",
            "Requirement already satisfied: requests-oauthlib>=0.7.0 in /usr/local/lib/python3.7/dist-packages (from tweepy>=3.7.0->konlpy) (1.3.0)\n",
            "Requirement already satisfied: six>=1.10.0 in /usr/local/lib/python3.7/dist-packages (from tweepy>=3.7.0->konlpy) (1.15.0)\n",
            "Requirement already satisfied: requests[socks]>=2.11.1 in /usr/local/lib/python3.7/dist-packages (from tweepy>=3.7.0->konlpy) (2.23.0)\n",
            "Requirement already satisfied: typing-extensions; python_version < \"3.8\" in /usr/local/lib/python3.7/dist-packages (from JPype1>=0.7.0->konlpy) (3.7.4.3)\n",
            "Requirement already satisfied: oauthlib>=3.0.0 in /usr/local/lib/python3.7/dist-packages (from requests-oauthlib>=0.7.0->tweepy>=3.7.0->konlpy) (3.1.1)\n",
            "Requirement already satisfied: idna<3,>=2.5 in /usr/local/lib/python3.7/dist-packages (from requests[socks]>=2.11.1->tweepy>=3.7.0->konlpy) (2.10)\n",
            "Requirement already satisfied: certifi>=2017.4.17 in /usr/local/lib/python3.7/dist-packages (from requests[socks]>=2.11.1->tweepy>=3.7.0->konlpy) (2021.5.30)\n",
            "Requirement already satisfied: chardet<4,>=3.0.2 in /usr/local/lib/python3.7/dist-packages (from requests[socks]>=2.11.1->tweepy>=3.7.0->konlpy) (3.0.4)\n",
            "Requirement already satisfied: urllib3!=1.25.0,!=1.25.1,<1.26,>=1.21.1 in /usr/local/lib/python3.7/dist-packages (from requests[socks]>=2.11.1->tweepy>=3.7.0->konlpy) (1.24.3)\n",
            "Requirement already satisfied: PySocks!=1.5.7,>=1.5.6; extra == \"socks\" in /usr/local/lib/python3.7/dist-packages (from requests[socks]>=2.11.1->tweepy>=3.7.0->konlpy) (1.7.1)\n",
            "Installing collected packages: beautifulsoup4, JPype1, colorama, konlpy\n",
            "  Found existing installation: beautifulsoup4 4.6.3\n",
            "    Uninstalling beautifulsoup4-4.6.3:\n",
            "      Successfully uninstalled beautifulsoup4-4.6.3\n",
            "Successfully installed JPype1-1.3.0 beautifulsoup4-4.6.0 colorama-0.4.4 konlpy-0.5.2\n"
          ],
          "name": "stdout"
        }
      ]
    },
    {
      "cell_type": "code",
      "metadata": {
        "id": "lgG0KrKtXZ7l"
      },
      "source": [
        "from konlpy.tag import *\n",
        "import pandas as pd\n",
        "from collections import Counter\n",
        "from wordcloud import WordCloud\n",
        "import matplotlib.pyplot as plt\n",
        "from PIL import Image\n",
        "import numpy as np"
      ],
      "execution_count": 2,
      "outputs": []
    },
    {
      "cell_type": "code",
      "metadata": {
        "id": "AS9ZTFwMXmrT"
      },
      "source": [
        "okt = Okt()\n",
        "kkma = Kkma()"
      ],
      "execution_count": 3,
      "outputs": []
    },
    {
      "cell_type": "code",
      "metadata": {
        "id": "8PxshMmJF51_"
      },
      "source": [
        "def word_cloud(name,date):\n",
        "  data = pd.read_csv('/content/news.csv',encoding='utf-8')\n",
        "\n",
        "  noun = okt.nouns(''.join(data[(data['name']==name)&(data['date']==date)]['content']))\n",
        "\n",
        "  for i, v in enumerate(noun):\n",
        "    if len(v)>3:\n",
        "      noun.pop(i)\n",
        "\n",
        "  count=Counter(noun)\n",
        "\n",
        "\n",
        "  noun_list = count.most_common(30)\n",
        "  list_=[]\n",
        "  for v in noun_list:\n",
        "    list_.append(v)\n",
        "\n",
        "  wordcloud = WordCloud(font_path='/content/NanumGothic.ttf',width=800,height=1000,background_color='black')\n",
        "  wordcloud.generate_from_frequencies(dict(list_))\n",
        "  plt.imshow(wordcloud)\n",
        "\n",
        "  return wordcloud.to_file('word.png')"
      ],
      "execution_count": 54,
      "outputs": []
    },
    {
      "cell_type": "code",
      "metadata": {
        "colab": {
          "base_uri": "https://localhost:8080/",
          "height": 286
        },
        "id": "jrLTCofdGY1B",
        "outputId": "f5ad9d8f-4f02-4914-e718-7319c590b85a"
      },
      "source": [
        "word_cloud('삼성전자','2021.07.14')"
      ],
      "execution_count": 57,
      "outputs": [
        {
          "output_type": "execute_result",
          "data": {
            "text/plain": [
              "<wordcloud.wordcloud.WordCloud at 0x7fece2d77c90>"
            ]
          },
          "metadata": {
            "tags": []
          },
          "execution_count": 57
        },
        {
          "output_type": "display_data",
          "data": {
            "image/png": "[encoded data removed]",
            "text/plain": [
              "<Figure size 432x288 with 1 Axes>"
            ]
          },
          "metadata": {
            "tags": [],
            "needs_background": "light"
          }
        }
      ]
    },
    {
      "cell_type": "code",
      "metadata": {
        "id": "3nDLrTHcVSJw"
      },
      "source": [
        "data = pd.read_csv('/content/news.csv',encoding='utf-8')"
      ],
      "execution_count": 4,
      "outputs": []
    },
    {
      "cell_type": "code",
      "metadata": {
        "id": "Xtzvm3z8kXS_",
        "colab": {
          "base_uri": "https://localhost:8080/",
          "height": 408
        },
        "outputId": "4384a0dd-dd8b-44c9-ca76-234299693c19"
      },
      "source": [
        "data"
      ],
      "execution_count": 5,
      "outputs": [
        {
          "output_type": "execute_result",
          "data": {
            "text/html": [
              "<div>\n",
              "<style scoped>\n",
              "    .dataframe tbody tr th:only-of-type {\n",
              "        vertical-align: middle;\n",
              "    }\n",
              "\n",
              "    .dataframe tbody tr th {\n",
              "        vertical-align: top;\n",
              "    }\n",
              "\n",
              "    .dataframe thead th {\n",
              "        text-align: right;\n",
              "    }\n",
              "</style>\n",
              "<table border=\"1\" class=\"dataframe\">\n",
              "  <thead>\n",
              "    <tr style=\"text-align: right;\">\n",
              "      <th></th>\n",
              "      <th>code</th>\n",
              "      <th>name</th>\n",
              "      <th>date</th>\n",
              "      <th>subject</th>\n",
              "      <th>content</th>\n",
              "    </tr>\n",
              "  </thead>\n",
              "  <tbody>\n",
              "    <tr>\n",
              "      <th>0</th>\n",
              "      <td>5930</td>\n",
              "      <td>삼성전자</td>\n",
              "      <td>2021.07.17</td>\n",
              "      <td>[단독] 삼성 대미 반도체 투자 결국 6개월~1년 지연</td>\n",
              "      <td>텍사스 제2후보지역 착공 내년 1Q\\n제1후보지서는 올해 2Q 공사 목표\\n상업가동...</td>\n",
              "    </tr>\n",
              "    <tr>\n",
              "      <th>1</th>\n",
              "      <td>5930</td>\n",
              "      <td>삼성전자</td>\n",
              "      <td>2021.07.16</td>\n",
              "      <td>인텔, '파운드리' 공격 투자 지속..삼성전자도 '경계'</td>\n",
              "      <td>\"인텔, 글로벌파운드리 인수 협상 진행 중\"\\n인수대금 약 34조 추정..인텔 역사...</td>\n",
              "    </tr>\n",
              "    <tr>\n",
              "      <th>2</th>\n",
              "      <td>5930</td>\n",
              "      <td>삼성전자</td>\n",
              "      <td>2021.07.16</td>\n",
              "      <td>TSMC, 삼성과 격차 더 벌리는데...총수 장기 부재로 전략적 결단 실종</td>\n",
              "      <td>[샌드위치 신세된 삼성]\\nTSMC 2분기 영업익 6조 육박\\n후발주자 추격 멀찍이...</td>\n",
              "    </tr>\n",
              "    <tr>\n",
              "      <th>3</th>\n",
              "      <td>5930</td>\n",
              "      <td>삼성전자</td>\n",
              "      <td>2021.07.16</td>\n",
              "      <td>\"기업가치 10조 잠재력 있다\" 삼성 600억 투자한 회사는?</td>\n",
              "      <td>인게임 앱 제작 지원 업체\\n메타버스 생태계 활용성 주목\\n\\n삼성전자의 투자 자회...</td>\n",
              "    </tr>\n",
              "    <tr>\n",
              "      <th>4</th>\n",
              "      <td>5930</td>\n",
              "      <td>삼성전자</td>\n",
              "      <td>2021.07.16</td>\n",
              "      <td>\"삼성, 美 제2파운드리 부지로 텍사스 중부 검토\" -로이터</td>\n",
              "      <td>미국 텍사스주 오스틴에 있는 삼성전자 팹 공장/사진=삼성전자 홈페이지\\n삼성전자가 ...</td>\n",
              "    </tr>\n",
              "    <tr>\n",
              "      <th>...</th>\n",
              "      <td>...</td>\n",
              "      <td>...</td>\n",
              "      <td>...</td>\n",
              "      <td>...</td>\n",
              "      <td>...</td>\n",
              "    </tr>\n",
              "    <tr>\n",
              "      <th>504</th>\n",
              "      <td>68270</td>\n",
              "      <td>셀트리온</td>\n",
              "      <td>2021.06.14</td>\n",
              "      <td>엎치락뒤치락 코스피…셀트리온 3형제 강세</td>\n",
              "      <td>셀트리온 장 초반 4%대 상승\\n코스닥 상승 출발\\n[이미지출처=연합뉴스]\\n\\n\\...</td>\n",
              "    </tr>\n",
              "    <tr>\n",
              "      <th>505</th>\n",
              "      <td>68270</td>\n",
              "      <td>셀트리온</td>\n",
              "      <td>2021.06.14</td>\n",
              "      <td>셀트리온 \"코로나19 치료제 렉키로나, 3상서 효능 안전성 입증\"</td>\n",
              "      <td>셀트리온 코로나 치료제 임상 3상서 중증 악화율 70% 이상 감소.[사진 = 연합]...</td>\n",
              "    </tr>\n",
              "    <tr>\n",
              "      <th>506</th>\n",
              "      <td>68270</td>\n",
              "      <td>셀트리온</td>\n",
              "      <td>2021.06.14</td>\n",
              "      <td>[속보]셀트리온 '렉키로나' 글로벌 임상 3상 효능·안전성 입증</td>\n",
              "      <td>[머니투데이 안정준 기자] 셀트리온은 코로나19 항체 치료제 '렉키로나'의 글로벌 ...</td>\n",
              "    </tr>\n",
              "    <tr>\n",
              "      <th>507</th>\n",
              "      <td>68270</td>\n",
              "      <td>셀트리온</td>\n",
              "      <td>2021.06.14</td>\n",
              "      <td>[속보]셀트리온 “렉키로나주, 중증환자 발생률 70% 감소시켜”</td>\n",
              "      <td>“고위험군 환자 대상으로는 72% 감소”\\n[이데일리 왕해나 기자] 셀트리온(068...</td>\n",
              "    </tr>\n",
              "    <tr>\n",
              "      <th>508</th>\n",
              "      <td>68270</td>\n",
              "      <td>셀트리온</td>\n",
              "      <td>2021.06.12</td>\n",
              "      <td>[외인이 담은 바이오] 외국인 ‘셀트리온’ 기관투자자 ‘SK바이오팜’ 러브콜</td>\n",
              "      <td>셀트리온, 바이오에서 케미컬까지 장악 시작\\nSK바이오팜 美영업 정상화 신약 판매 ...</td>\n",
              "    </tr>\n",
              "  </tbody>\n",
              "</table>\n",
              "<p>509 rows × 5 columns</p>\n",
              "</div>"
            ],
            "text/plain": [
              "      code  ...                                            content\n",
              "0     5930  ...  텍사스 제2후보지역 착공 내년 1Q\\n제1후보지서는 올해 2Q 공사 목표\\n상업가동...\n",
              "1     5930  ...  \"인텔, 글로벌파운드리 인수 협상 진행 중\"\\n인수대금 약 34조 추정..인텔 역사...\n",
              "2     5930  ...  [샌드위치 신세된 삼성]\\nTSMC 2분기 영업익 6조 육박\\n후발주자 추격 멀찍이...\n",
              "3     5930  ...  인게임 앱 제작 지원 업체\\n메타버스 생태계 활용성 주목\\n\\n삼성전자의 투자 자회...\n",
              "4     5930  ...  미국 텍사스주 오스틴에 있는 삼성전자 팹 공장/사진=삼성전자 홈페이지\\n삼성전자가 ...\n",
              "..     ...  ...                                                ...\n",
              "504  68270  ...  셀트리온 장 초반 4%대 상승\\n코스닥 상승 출발\\n[이미지출처=연합뉴스]\\n\\n\\...\n",
              "505  68270  ...  셀트리온 코로나 치료제 임상 3상서 중증 악화율 70% 이상 감소.[사진 = 연합]...\n",
              "506  68270  ...  [머니투데이 안정준 기자] 셀트리온은 코로나19 항체 치료제 '렉키로나'의 글로벌 ...\n",
              "507  68270  ...  “고위험군 환자 대상으로는 72% 감소”\\n[이데일리 왕해나 기자] 셀트리온(068...\n",
              "508  68270  ...  셀트리온, 바이오에서 케미컬까지 장악 시작\\nSK바이오팜 美영업 정상화 신약 판매 ...\n",
              "\n",
              "[509 rows x 5 columns]"
            ]
          },
          "metadata": {
            "tags": []
          },
          "execution_count": 5
        }
      ]
    },
    {
      "cell_type": "code",
      "metadata": {
        "colab": {
          "base_uri": "https://localhost:8080/"
        },
        "id": "1akF2sQgDbWb",
        "outputId": "9f9b7b22-53f6-4ae8-9f07-ebfd25820e24"
      },
      "source": [
        "data[(data['name']=='삼성전자')&(data['date']=='2021.07.16')]['content']"
      ],
      "execution_count": 11,
      "outputs": [
        {
          "output_type": "execute_result",
          "data": {
            "text/plain": [
              "1     \"인텔, 글로벌파운드리 인수 협상 진행 중\"\\n인수대금 약 34조 추정..인텔 역사...\n",
              "2     [샌드위치 신세된 삼성]\\nTSMC 2분기 영업익 6조 육박\\n후발주자 추격 멀찍이...\n",
              "3     인게임 앱 제작 지원 업체\\n메타버스 생태계 활용성 주목\\n\\n삼성전자의 투자 자회...\n",
              "4     미국 텍사스주 오스틴에 있는 삼성전자 팹 공장/사진=삼성전자 홈페이지\\n삼성전자가 ...\n",
              "5     가용 인력도 7000명에서 3000명으로 줄여\\n직원 출퇴근 금지 조치에 텐트 등 ...\n",
              "6     사진=연합뉴스\\n\\n\\n코스피가 기관과 외국인의 매도에 하락 마감했다. 신종 코로나...\n",
              "7     사진제공=삼성전자\\n장마가 물러가자 본격적인 무더위가 시작됐다. 35도를 웃도는 기...\n",
              "8     [이데일리 김연지 기자] 와이아이케이(232140)는 삼성전자(005930)와 반도...\n",
              "9     인텔의 파운드리 인수 움직임에\\n한국 에이디칩스 주가 22%↑\\n삼성전자·SK하이닉...\n",
              "10    남미 아프리카 등서 점유율 빠르게 높여\\n1위는 점유율 19%로 삼성전자가 차지해 ...\n",
              "11    미국 캘리포니아주 산타클라라의 인텔 본사 [사진 출처 = 연합뉴스]\\n인텔이 세계 ...\n",
              "12    지난 4월23일(현지시간) 인도 카슈미르주 잠무의 화장터에서 코로나19로 숨진 사람...\n",
              "13    엑시콘은삼성전자와 43억원 규모의 반도체 검사장비(번인 보드) 공급 계약을 체결했다...\n",
              "14    삼성전자(005930)가 외국인과 기관의 동반 매수에 8만원대를 회복한 지 하루 만...\n",
              "15    [주식 1주 증정하는 이마트24 '주식도시락' 판매 첫날 완판되며 인기몰이]\\n\\n...\n",
              "16    필라델피아 반도체 지수, 반도체 투심 위축되며 2.17%↓\\n[이데일리 이은정 기자...\n",
              "17    사진제공=삼성전자\\n\\n[서울경제]\\n\\n삼성전자(005930) 주가가 16일 장 ...\n",
              "18    [이데일리 박정수 기자] 키움증권은 16일 케이씨텍(281820)에 대해 삼성전자 ...\n",
              "19    서울 서초구 삼성전자 사옥 [사진=뉴스1]\\n\\n삼성전자가 코로나19(신종 코로나바...\n",
              "20    [워치전망대]\\n2Q 호실적, 애플 보상금 8000억원 효과\\n아이폰12 흥행에도 ...\n",
              "21    지난 4월 서울 서초구 삼성전자 사옥 딜라이트룸 앞을 마스크를 쓴 임직원들이 지나가...\n",
              "Name: content, dtype: object"
            ]
          },
          "metadata": {
            "tags": []
          },
          "execution_count": 11
        }
      ]
    },
    {
      "cell_type": "code",
      "metadata": {
        "id": "JCsCKQOvD8hh"
      },
      "source": [
        "noun = okt.nouns(''.join(data[(data['name']=='삼성전자')&(data['date']=='2021.07.16')]['content']))\n",
        "\n",
        "for i, v in enumerate(noun):\n",
        "  if len(v)<3:\n",
        "    noun.pop(i)\n",
        "\n",
        "count=Counter(noun)\n"
      ],
      "execution_count": 12,
      "outputs": []
    },
    {
      "cell_type": "code",
      "metadata": {
        "id": "IZu17BSVEE0L"
      },
      "source": [
        "count"
      ],
      "execution_count": null,
      "outputs": []
    },
    {
      "cell_type": "code",
      "metadata": {
        "id": "vf298McSgtKU"
      },
      "source": [
        "noun_list = count.most_common(30)\n",
        "list_=[]\n",
        "for v in noun_list:\n",
        "  list_.append(v)"
      ],
      "execution_count": 30,
      "outputs": []
    },
    {
      "cell_type": "code",
      "metadata": {
        "id": "xi9kM8bAh9gu"
      },
      "source": [
        "\n",
        "icon = Image.open('/content/2724203D55A4B42402.png')\n",
        "mask = Image.new(\"RGB\", icon.size, (255,255,255))\n",
        "mask.paste(icon,icon)\n",
        "\n",
        "\n",
        "pig=np.array(mask)"
      ],
      "execution_count": 32,
      "outputs": []
    },
    {
      "cell_type": "code",
      "metadata": {
        "id": "sRacfVJTg1b1",
        "colab": {
          "base_uri": "https://localhost:8080/",
          "height": 168
        },
        "outputId": "4c167dba-a718-48a7-958e-8206b3690e17"
      },
      "source": [
        "wordcloud = WordCloud(font_path='/content/NanumGothic.ttf',width=800,height=1000,background_color='black', mask=pig)"
      ],
      "execution_count": 35,
      "outputs": [
        {
          "output_type": "error",
          "ename": "TypeError",
          "evalue": "ignored",
          "traceback": [
            "\u001b[0;31m---------------------------------------------------------------------------\u001b[0m",
            "\u001b[0;31mTypeError\u001b[0m                                 Traceback (most recent call last)",
            "\u001b[0;32m<ipython-input-35-ba43eb4aaf49>\u001b[0m in \u001b[0;36m<module>\u001b[0;34m()\u001b[0m\n\u001b[0;32m----> 1\u001b[0;31m \u001b[0mwordcloud\u001b[0m \u001b[0;34m=\u001b[0m \u001b[0mWordCloud\u001b[0m\u001b[0;34m(\u001b[0m\u001b[0mfont_path\u001b[0m\u001b[0;34m=\u001b[0m\u001b[0;34m'/content/NanumGothic.ttf'\u001b[0m\u001b[0;34m,\u001b[0m\u001b[0mwidth\u001b[0m\u001b[0;34m=\u001b[0m\u001b[0;36m800\u001b[0m\u001b[0;34m,\u001b[0m\u001b[0mheight\u001b[0m\u001b[0;34m=\u001b[0m\u001b[0;36m1000\u001b[0m\u001b[0;34m,\u001b[0m\u001b[0mbackground_color\u001b[0m\u001b[0;34m=\u001b[0m\u001b[0;34m'black'\u001b[0m\u001b[0;34m,\u001b[0m\u001b[0mfont_size\u001b[0m\u001b[0;34m=\u001b[0m\u001b[0;36m20\u001b[0m\u001b[0;34m,\u001b[0m \u001b[0mmask\u001b[0m\u001b[0;34m=\u001b[0m\u001b[0mpig\u001b[0m\u001b[0;34m)\u001b[0m\u001b[0;34m\u001b[0m\u001b[0;34m\u001b[0m\u001b[0m\n\u001b[0m",
            "\u001b[0;31mTypeError\u001b[0m: __init__() got an unexpected keyword argument 'font_size'"
          ]
        }
      ]
    },
    {
      "cell_type": "code",
      "metadata": {
        "colab": {
          "base_uri": "https://localhost:8080/",
          "height": 286
        },
        "id": "GLsC24Dzhqhr",
        "outputId": "9f16bc4a-c74a-4bb7-e4fd-8f2165aca14e"
      },
      "source": [
        "wordcloud.generate_from_frequencies(dict(list_))\n",
        "plt.imshow(wordcloud)"
      ],
      "execution_count": 34,
      "outputs": [
        {
          "output_type": "execute_result",
          "data": {
            "text/plain": [
              "<matplotlib.image.AxesImage at 0x7fece2d69210>"
            ]
          },
          "metadata": {
            "tags": []
          },
          "execution_count": 34
        },
        {
          "output_type": "display_data",
          "data": {
            "image/png": "[encoded data removed]",
            "text/plain": [
              "<Figure size 432x288 with 1 Axes>"
            ]
          },
          "metadata": {
            "tags": [],
            "needs_background": "light"
          }
        }
      ]
    },
    {
      "cell_type": "code",
      "metadata": {
        "colab": {
          "base_uri": "https://localhost:8080/",
          "height": 286
        },
        "id": "3IXy1y-6h6IC",
        "outputId": "9cf10b42-23db-451c-983b-37ebc68297e9"
      },
      "source": [
        "wordcloud.to_file('word.png')\n",
        "plt.imshow(wordcloud)"
      ],
      "execution_count": 29,
      "outputs": [
        {
          "output_type": "execute_result",
          "data": {
            "text/plain": [
              "<matplotlib.image.AxesImage at 0x7fece2df35d0>"
            ]
          },
          "metadata": {
            "tags": []
          },
          "execution_count": 29
        },
        {
          "output_type": "display_data",
          "data": {
            "image/png": "[encoded data removed]",
            "text/plain": [
              "<Figure size 432x288 with 1 Axes>"
            ]
          },
          "metadata": {
            "tags": [],
            "needs_background": "light"
          }
        }
      ]
    },
    {
      "cell_type": "code",
      "metadata": {
        "id": "D_xrXmDimSag"
      },
      "source": [
        ""
      ],
      "execution_count": null,
      "outputs": []
    }
  ]
}